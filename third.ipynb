{
 "cells": [
  {
   "cell_type": "code",
   "execution_count": 1,
   "metadata": {},
   "outputs": [],
   "source": [
    "import qiskit\n",
    "from qiskit import QuantumCircuit"
   ]
  },
  {
   "cell_type": "code",
   "execution_count": 2,
   "metadata": {},
   "outputs": [
    {
     "data": {
      "text/html": [
       "<pre style=\"word-wrap: normal;white-space: pre;background: #fff0;line-height: 1.1;font-family: &quot;Courier New&quot;,Courier,monospace\">     ┌───┐   ┌─┐   \n",
       "q_0: ┤ X ├─■─┤M├───\n",
       "     └───┘ │ └╥┘┌─┐\n",
       "q_1: ──────■──╫─┤M├\n",
       "              ║ └╥┘\n",
       "c: 2/═════════╩══╩═\n",
       "              0  1 </pre>"
      ],
      "text/plain": [
       "     ┌───┐   ┌─┐   \n",
       "q_0: ┤ X ├─■─┤M├───\n",
       "     └───┘ │ └╥┘┌─┐\n",
       "q_1: ──────■──╫─┤M├\n",
       "              ║ └╥┘\n",
       "c: 2/═════════╩══╩═\n",
       "              0  1 "
      ]
     },
     "execution_count": 2,
     "metadata": {},
     "output_type": "execute_result"
    }
   ],
   "source": [
    "circuit = qiskit.QuantumCircuit(2,2)\n",
    "circuit.x(0)\n",
    "circuit.cz(0,1)\n",
    "circuit.measure([0,1], [0,1])\n",
    "circuit.draw()"
   ]
  },
  {
   "cell_type": "code",
   "execution_count": null,
   "metadata": {},
   "outputs": [],
   "source": [
    "def deutsch_function (case: int):  # this code segment implies the use of deutsch's algorithm on two qubits by initializing the first four states \n",
    "    f = QuantumCircuit(2)\n",
    "    if case in [2,3]:\n",
    "        f.cx(0,1)\n",
    "    elif case in [3,4]:\n",
    "        f.x(1)\n",
    "    return f"
   ]
  },
  {
   "cell_type": "code",
   "execution_count": null,
   "metadata": {},
   "outputs": [],
   "source": [
    "# here we are actually building the Deutsch's algorithm placing the necessary hadamard gates for each qubit\n",
    "def compile_circuit(input: QuantumCircuit):\n",
    "    n = input.num_qubits - 1\n",
    "    qc =  QuantumCircuit(n+1 , n) #n+1 = no of qubits and n=no of classical bits\n",
    "\n",
    "    qc.x(n)\n",
    "    qc.h(range(n+1))\n",
    "\n",
    "    qc.barrier()\n",
    "    qc.compose(function,inplace=True)\n",
    "    qc.barrier()\n",
    "s\n",
    "    qc.h(range(n))\n",
    "    qc.measure(range(n),range(n))\n",
    "\n",
    "    return qc\n",
    "\n"
   ]
  }
 ],
 "metadata": {
  "kernelspec": {
   "display_name": "Python 3",
   "language": "python",
   "name": "python3"
  },
  "language_info": {
   "codemirror_mode": {
    "name": "ipython",
    "version": 3
   },
   "file_extension": ".py",
   "mimetype": "text/x-python",
   "name": "python",
   "nbconvert_exporter": "python",
   "pygments_lexer": "ipython3",
   "version": "3.13.2"
  }
 },
 "nbformat": 4,
 "nbformat_minor": 2
}
