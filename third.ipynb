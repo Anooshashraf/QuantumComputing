{
 "cells": [
  {
   "cell_type": "markdown",
   "id": "29840678",
   "metadata": {},
   "source": [
    "\"\"\"Quantum circuits in Qiskit are objects with methods like .h() (Hadamard) or .measure(). Understanding OOP helps us customize and extend these tools\"\"\""
   ]
  },
  {
   "cell_type": "code",
   "execution_count": 2,
   "id": "478f473a",
   "metadata": {},
   "outputs": [],
   "source": [
    "import numpy as np\n",
    "import matplotlib.pyplot as plt"
   ]
  },
  {
   "cell_type": "code",
   "execution_count": null,
   "id": "50cc4efa",
   "metadata": {},
   "outputs": [
    {
     "name": "stdout",
     "output_type": "stream",
     "text": [
      "Qubit Q1 is in state |0>\n",
      "Qubit Q1 is in state |1>\n"
     ]
    }
   ],
   "source": [
    "class qubit:\n",
    "    def __init__(self, name , state=0): # 0 or 1 \n",
    "        self.name = name\n",
    "        self.state = state\n",
    "    \n",
    "    def flip(self):# Flips 0 to 1 or 1 to 0\n",
    "        self.state = 1-self.state\n",
    "\n",
    "    def describe(self):\n",
    "        return f\"Qubit {self.name} is in state |{self.state}>\"\n",
    "# Create and use a qubit object\n",
    "Q = qubit(\"Q1\" )\n",
    "print(Q.describe())\n",
    "Q.flip()\n",
    "print(Q.describe())\n"
   ]
  },
  {
   "cell_type": "code",
   "execution_count": null,
   "id": "b8d2cf87",
   "metadata": {},
   "outputs": [
    {
     "ename": "ImportError",
     "evalue": "cannot import name 'Aer' from 'qiskit' (c:\\Users\\Anoosha\\Desktop\\github project\\quantum\\QuantumComputing\\quantum_env\\Lib\\site-packages\\qiskit\\__init__.py)",
     "output_type": "error",
     "traceback": [
      "\u001b[31m---------------------------------------------------------------------------\u001b[39m",
      "\u001b[31mImportError\u001b[39m                               Traceback (most recent call last)",
      "\u001b[36mCell\u001b[39m\u001b[36m \u001b[39m\u001b[32mIn[12]\u001b[39m\u001b[32m, line 2\u001b[39m\n\u001b[32m      1\u001b[39m \u001b[38;5;28;01mimport\u001b[39;00m\u001b[38;5;250m \u001b[39m\u001b[34;01mqiskit\u001b[39;00m\n\u001b[32m----> \u001b[39m\u001b[32m2\u001b[39m \u001b[38;5;28;01mfrom\u001b[39;00m\u001b[38;5;250m \u001b[39m\u001b[34;01mqiskit\u001b[39;00m\u001b[38;5;250m \u001b[39m\u001b[38;5;28;01mimport\u001b[39;00m QuantumCircuit, Aer , assemble , execute\n\u001b[32m      3\u001b[39m \u001b[38;5;28;01mfrom\u001b[39;00m\u001b[38;5;250m \u001b[39m\u001b[34;01mqiskit\u001b[39;00m\u001b[34;01m.\u001b[39;00m\u001b[34;01mvisualization\u001b[39;00m\u001b[38;5;250m \u001b[39m\u001b[38;5;28;01mimport\u001b[39;00m plot_histogram\n\u001b[32m      5\u001b[39m \u001b[38;5;66;03m#let us first create a qc with 1 classical bit and 1 quantum bit\u001b[39;00m\n",
      "\u001b[31mImportError\u001b[39m: cannot import name 'Aer' from 'qiskit' (c:\\Users\\Anoosha\\Desktop\\github project\\quantum\\QuantumComputing\\quantum_env\\Lib\\site-packages\\qiskit\\__init__.py)"
     ]
    }
   ],
   "source": [
    "import qiskit\n",
    "from qiskit import QuantumCircuit\n",
    "from qiskit.visualization import plot_histogram\n",
    "\n",
    "#let us first create a qc with 1 classical bit and 1 quantum bit\n",
    "qc = QuantumCircuit(1,1)\n",
    "\n",
    "#Applying superposition\n",
    "qc.h(0)\n",
    "\n",
    "#measuring the qubit\n",
    "qc.measure(0,0)\n",
    "\n",
    "#Simulate the circuit\n",
    "simulator = qiskit.Aer.get_backend('qasm_simulator')\n",
    "job = qiskit.execute(qc, simulator , shots=1024)\n",
    "result = job.result()\n",
    "counts = result.get_counts()\n",
    "\n",
    "print(counts)\n",
    "plot_histogram(counts).show()\n",
    "\n",
    "\n"
   ]
  }
 ],
 "metadata": {
  "kernelspec": {
   "display_name": "quantum_env",
   "language": "python",
   "name": "python3"
  },
  "language_info": {
   "codemirror_mode": {
    "name": "ipython",
    "version": 3
   },
   "file_extension": ".py",
   "mimetype": "text/x-python",
   "name": "python",
   "nbconvert_exporter": "python",
   "pygments_lexer": "ipython3",
   "version": "3.13.2"
  }
 },
 "nbformat": 4,
 "nbformat_minor": 5
}
