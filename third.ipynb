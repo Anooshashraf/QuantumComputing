{
 "cells": [
  {
   "cell_type": "markdown",
   "id": "29840678",
   "metadata": {},
   "source": [
    "\"\"\"Quantum circuits in Qiskit are objects with methods like .h() (Hadamard) or .measure(). Understanding OOP helps us customize and extend these tools\"\"\""
   ]
  },
  {
   "cell_type": "code",
   "execution_count": 2,
   "id": "478f473a",
   "metadata": {},
   "outputs": [],
   "source": [
    "import numpy as np\n",
    "import matplotlib.pyplot as plt"
   ]
  },
  {
   "cell_type": "code",
   "execution_count": null,
   "id": "50cc4efa",
   "metadata": {},
   "outputs": [
    {
     "name": "stdout",
     "output_type": "stream",
     "text": [
      "Qubit Q1 is in state |0>\n",
      "Qubit Q1 is in state |1>\n"
     ]
    }
   ],
   "source": [
    "class qubit:\n",
    "    def __init__(self, name , state=0): # 0 or 1 \n",
    "        self.name = name\n",
    "        self.state = state\n",
    "    \n",
    "    def flip(self):# Flips 0 to 1 or 1 to 0\n",
    "        self.state = 1-self.state\n",
    "\n",
    "    def describe(self):\n",
    "        return f\"Qubit {self.name} is in state |{self.state}>\"\n",
    "# Create and use a qubit object\n",
    "Q = qubit(\"Q1\" )\n",
    "print(Q.describe())\n",
    "Q.flip()\n",
    "print(Q.describe())\n"
   ]
  },
  {
   "cell_type": "code",
   "execution_count": null,
   "id": "b8d2cf87",
   "metadata": {},
   "outputs": [],
   "source": []
  }
 ],
 "metadata": {
  "kernelspec": {
   "display_name": "quantum_env",
   "language": "python",
   "name": "python3"
  },
  "language_info": {
   "codemirror_mode": {
    "name": "ipython",
    "version": 3
   },
   "file_extension": ".py",
   "mimetype": "text/x-python",
   "name": "python",
   "nbconvert_exporter": "python",
   "pygments_lexer": "ipython3",
   "version": "3.13.2"
  }
 },
 "nbformat": 4,
 "nbformat_minor": 5
}
