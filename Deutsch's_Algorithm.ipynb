{
 "cells": [
  {
   "cell_type": "code",
   "execution_count": 1,
   "metadata": {},
   "outputs": [],
   "source": [
    "import qiskit\n",
    "from qiskit import QuantumCircuit"
   ]
  },
  {
   "cell_type": "code",
   "execution_count": null,
   "metadata": {},
   "outputs": [],
   "source": [
    "\"\"\"How Deutsch's Algorithm Works\n",
    "\n",
    "Initialization: The algorithm starts with all qubits in state |0⟩\n",
    "\n",
    "Preparation: The ancilla qubit is flipped to |1⟩ and all qubits are put in superposition\n",
    "\n",
    "Function Evaluation: The oracle (input circuit) is applied\n",
    "\n",
    "Interference: Hadamard gates are applied to the input qubits\n",
    "\n",
    "Measurement: Measuring all zeros indicates a constant function; any other result indicates a balanced function\"\"\""
   ]
  },
  {
   "cell_type": "code",
   "execution_count": 3,
   "metadata": {},
   "outputs": [],
   "source": [
    "def deutsch_function (case: int):  # this code segment implies the use of deutsch's algorithm on two qubits by initializing the first four states \n",
    "    f = QuantumCircuit(2)\n",
    "    if case in [2,3]:\n",
    "        f.cx(0,1)\n",
    "    elif case in [3,4]:\n",
    "        f.x(1)\n",
    "    return f"
   ]
  },
  {
   "cell_type": "code",
   "execution_count": null,
   "metadata": {},
   "outputs": [],
   "source": [
    "# here we are actually building the Deutsch's algorithm placing the necessary hadamard gates for each qubit\n",
    "def compile_circuit(input: QuantumCircuit):\n",
    "    n = input.num_qubits - 1\n",
    "    qc =  QuantumCircuit(n+1 , n) # n is set to the number of input qubits (total qubits - 1, since there's typically an ancilla qubit)\n",
    "    #Creates a new quantum circuit with n+1 qubits and n classical bits for measurement\n",
    "\n",
    "    qc.x(n) #Applies an X gate (bit flip) to the last qubit (ancilla qubit)\n",
    "    qc.h(range(n+1)) #Applies Hadamard gates to all qubits to put them in superposition\n",
    "\n",
    "\n",
    "    qc.barrier() #Adds a barrier (visual separation in circuit)\n",
    "    qc.compose(input,inplace=True) #Composes (incorporates) the input circuit (the function to evaluate)\n",
    "    qc.barrier()\n",
    "\n",
    "    qc.h(range(n))\n",
    "    qc.measure(range(n),range(n)) #Measures the first n qubits and stores results in classical bits\n",
    "\n",
    "    return qc\n",
    "\n",
    "\n"
   ]
  },
  {
   "cell_type": "code",
   "execution_count": null,
   "metadata": {},
   "outputs": [
    {
     "name": "stdout",
     "output_type": "stream",
     "text": [
      "balanced\n"
     ]
    },
    {
     "ename": "AttributeError",
     "evalue": "'str' object has no attribute 'draw'",
     "output_type": "error",
     "traceback": [
      "\u001b[31m---------------------------------------------------------------------------\u001b[39m",
      "\u001b[31mAttributeError\u001b[39m                            Traceback (most recent call last)",
      "\u001b[36mCell\u001b[39m\u001b[36m \u001b[39m\u001b[32mIn[22]\u001b[39m\u001b[32m, line 26\u001b[39m\n\u001b[32m     24\u001b[39m result1= deutsch_algorithm(balanced_qubit())\n\u001b[32m     25\u001b[39m \u001b[38;5;28mprint\u001b[39m(result1)\n\u001b[32m---> \u001b[39m\u001b[32m26\u001b[39m \u001b[43mresult1\u001b[49m\u001b[43m.\u001b[49m\u001b[43mdraw\u001b[49m()\n\u001b[32m     28\u001b[39m result2= deutsch_algorithm(constant_circuit())\n\u001b[32m     29\u001b[39m \u001b[38;5;28mprint\u001b[39m(result2)\n",
      "\u001b[31mAttributeError\u001b[39m: 'str' object has no attribute 'draw'"
     ]
    }
   ],
   "source": [
    "from qiskit_aer import AerSimulator\n",
    "\n",
    "def deutsch_algorithm(input: QuantumCircuit):\n",
    "    qc=compile_circuit(input)\n",
    "\n",
    "    result = AerSimulator().run(qc, shots=1, memory=True).result() #Runs the circuit on a simulator with just 1 shot (since Deutsch's algorithm only needs one evaluation)\n",
    "    measurements = result.get_memory()\n",
    "    if measurements[0]==\"0\": # checks whether the measured qubits is 0 So, it'll return constant otherwise it'll return balanced\n",
    "        return \"constant\"\n",
    "    \n",
    "    return \"balanced\"\n",
    "\n",
    "\n",
    "def balanced_qubit():\n",
    "    qc= QuantumCircuit(2)\n",
    "    qc.cx(0,1) # CNOT gate makes this balanced\n",
    "    return qc\n",
    "\n",
    "def constant_circuit():\n",
    "    qc = QuantumCircuit(2)  # 1 input qubit + 1 ancilla qubit\n",
    "    # No operations - this is a constant function\n",
    "    return qc\n",
    "\n",
    "result1= deutsch_algorithm(balanced_qubit())\n",
    "print(result1)\n",
    "\n",
    "\n",
    "result2= deutsch_algorithm(constant_circuit())\n",
    "print(result2)\n"
   ]
  }
 ],
 "metadata": {
  "kernelspec": {
   "display_name": "Python 3",
   "language": "python",
   "name": "python3"
  },
  "language_info": {
   "codemirror_mode": {
    "name": "ipython",
    "version": 3
   },
   "file_extension": ".py",
   "mimetype": "text/x-python",
   "name": "python",
   "nbconvert_exporter": "python",
   "pygments_lexer": "ipython3",
   "version": "3.13.2"
  }
 },
 "nbformat": 4,
 "nbformat_minor": 2
}
