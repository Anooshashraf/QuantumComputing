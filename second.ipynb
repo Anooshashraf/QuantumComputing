{
 "cells": [
  {
   "cell_type": "code",
   "execution_count": 8,
   "metadata": {},
   "outputs": [],
   "source": [
    "from qiskit import QuantumCircuit\n",
    "from qiskit.quantum_info import Statevector\n",
    "import numpy as np\n",
    "from qiskit.primitives import StatevectorSampler\n",
    "from qiskit_ibm_runtime import QiskitRuntimeService\n",
    "import scipy as sp\n",
    "import scipy.linalg\n",
    "\n"
   ]
  },
  {
   "cell_type": "code",
   "execution_count": 2,
   "metadata": {},
   "outputs": [
    {
     "data": {
      "text/html": [
       "<pre style=\"word-wrap: normal;white-space: pre;background: #fff0;line-height: 1.1;font-family: &quot;Courier New&quot;,Courier,monospace\">     ┌───┐     \n",
       "q_0: ┤ H ├──■──\n",
       "     └───┘┌─┴─┐\n",
       "q_1: ─────┤ X ├\n",
       "          └───┘</pre>"
      ],
      "text/plain": [
       "     ┌───┐     \n",
       "q_0: ┤ H ├──■──\n",
       "     └───┘┌─┴─┐\n",
       "q_1: ─────┤ X ├\n",
       "          └───┘"
      ]
     },
     "execution_count": 2,
     "metadata": {},
     "output_type": "execute_result"
    }
   ],
   "source": [
    "circuit = QuantumCircuit(2)\n",
    "\n",
    "circuit.h(0)\n",
    "circuit.cx(0,1)\n",
    "circuit.draw()"
   ]
  },
  {
   "cell_type": "code",
   "execution_count": 5,
   "metadata": {},
   "outputs": [
    {
     "data": {
      "text/html": [
       "<pre style=\"word-wrap: normal;white-space: pre;background: #fff0;line-height: 1.1;font-family: &quot;Courier New&quot;,Courier,monospace\">     ┌───┐┌────────┐          \n",
       "q_0: ┤ H ├┤ P(π/2) ├──■───────\n",
       "     └───┘└────────┘┌─┴─┐     \n",
       "q_1: ───────────────┤ X ├──■──\n",
       "                    └───┘┌─┴─┐\n",
       "q_2: ────────────────────┤ X ├\n",
       "                         └───┘</pre>"
      ],
      "text/plain": [
       "     ┌───┐┌────────┐          \n",
       "q_0: ┤ H ├┤ P(π/2) ├──■───────\n",
       "     └───┘└────────┘┌─┴─┐     \n",
       "q_1: ───────────────┤ X ├──■──\n",
       "                    └───┘┌─┴─┐\n",
       "q_2: ────────────────────┤ X ├\n",
       "                         └───┘"
      ]
     },
     "execution_count": 5,
     "metadata": {},
     "output_type": "execute_result"
    }
   ],
   "source": [
    "# 1. A quantum circuit for preparing the quantum state |000> + i |111> / √2\n",
    "qc = QuantumCircuit(3)\n",
    "qc.h(0) # this is used to generate superposition\n",
    "qc.p(np.pi/2 , 0) # this is to add quantum phase on the qubits \n",
    "qc.cx(0,1) # 0th-qubit-Controlled-NOT gate on 1st qubit\n",
    "qc.cx(1,2) # 0th-qubit-Controlled-NOT gate on 2nd qubit\n",
    "qc.draw()\n"
   ]
  },
  {
   "cell_type": "code",
   "execution_count": 6,
   "metadata": {},
   "outputs": [
    {
     "name": "stdout",
     "output_type": "stream",
     "text": [
      " > Counts: {'111': 508, '000': 492}\n"
     ]
    }
   ],
   "source": [
    "# 2. Add the classical output in the form of measurement of all qubits\n",
    "qc_measured = qc.measure_all(inplace=False)\n",
    "job = StatevectorSampler().run([qc_measured] , shots=1000)\n",
    "res = job.result()\n",
    "print(f\" > Counts: {res[0].data[\"meas\"].get_counts()}\")\n",
    "\n",
    "#{'000': 497, '111': 503} which is 000 50% of the time and 111 50% of the time up to statistical fluctuations."
   ]
  }
 ],
 "metadata": {
  "kernelspec": {
   "display_name": "Python 3",
   "language": "python",
   "name": "python3"
  },
  "language_info": {
   "codemirror_mode": {
    "name": "ipython",
    "version": 3
   },
   "file_extension": ".py",
   "mimetype": "text/x-python",
   "name": "python",
   "nbconvert_exporter": "python",
   "pygments_lexer": "ipython3",
   "version": "3.13.2"
  }
 },
 "nbformat": 4,
 "nbformat_minor": 2
}
