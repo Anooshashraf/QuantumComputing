{
 "cells": [
  {
   "cell_type": "code",
   "execution_count": 1,
   "metadata": {},
   "outputs": [],
   "source": [
    "from qiskit import QuantumCircuit\n",
    "from qiskit.quantum_info import Statevector\n",
    "import numpy as np\n",
    "from qiskit.primitives import StatevectorSampler\n",
    "from qiskit_ibm_runtime import QiskitRuntimeService\n",
    "import scipy as sp\n",
    "import scipy.linalg\n",
    "\n"
   ]
  },
  {
   "cell_type": "code",
   "execution_count": 14,
   "metadata": {},
   "outputs": [
    {
     "data": {
      "text/html": [
       "<pre style=\"word-wrap: normal;white-space: pre;background: #fff0;line-height: 1.1;font-family: &quot;Courier New&quot;,Courier,monospace\">     ┌───┐        \n",
       "q_0: ┤ H ├──■───■─\n",
       "     └───┘┌─┴─┐ │ \n",
       "q_1: ─────┤ X ├─■─\n",
       "          └───┘   </pre>"
      ],
      "text/plain": [
       "     ┌───┐        \n",
       "q_0: ┤ H ├──■───■─\n",
       "     └───┘┌─┴─┐ │ \n",
       "q_1: ─────┤ X ├─■─\n",
       "          └───┘   "
      ]
     },
     "execution_count": 14,
     "metadata": {},
     "output_type": "execute_result"
    }
   ],
   "source": [
    "circuit = QuantumCircuit(2)\n",
    "\n",
    "circuit.h(0)\n",
    "circuit.cx(0,1)\n",
    "circuit.cz(0,1)\n",
    "circuit.draw()"
   ]
  },
  {
   "cell_type": "code",
   "execution_count": 3,
   "metadata": {},
   "outputs": [
    {
     "data": {
      "text/html": [
       "<pre style=\"word-wrap: normal;white-space: pre;background: #fff0;line-height: 1.1;font-family: &quot;Courier New&quot;,Courier,monospace\">     ┌───┐┌────────┐          \n",
       "q_0: ┤ H ├┤ P(π/2) ├──■───────\n",
       "     └───┘└────────┘┌─┴─┐     \n",
       "q_1: ───────────────┤ X ├──■──\n",
       "                    └───┘┌─┴─┐\n",
       "q_2: ────────────────────┤ X ├\n",
       "                         └───┘</pre>"
      ],
      "text/plain": [
       "     ┌───┐┌────────┐          \n",
       "q_0: ┤ H ├┤ P(π/2) ├──■───────\n",
       "     └───┘└────────┘┌─┴─┐     \n",
       "q_1: ───────────────┤ X ├──■──\n",
       "                    └───┘┌─┴─┐\n",
       "q_2: ────────────────────┤ X ├\n",
       "                         └───┘"
      ]
     },
     "execution_count": 3,
     "metadata": {},
     "output_type": "execute_result"
    }
   ],
   "source": [
    "# 1. A quantum circuit for preparing the quantum state |000> + i |111> / √2\n",
    "qc = QuantumCircuit(3)\n",
    "qc.h(0) # this is used to generate superposition\n",
    "qc.p(np.pi/2 , 0) # this is to add quantum phase on the qubits \n",
    "qc.cx(0,1) # 0th-qubit-Controlled-NOT gate on 1st qubit\n",
    "qc.cx(1,2) # 0th-qubit-Controlled-NOT gate on 2nd qubit\n",
    "qc.draw()\n"
   ]
  },
  {
   "cell_type": "code",
   "execution_count": 4,
   "metadata": {},
   "outputs": [
    {
     "name": "stdout",
     "output_type": "stream",
     "text": [
      " > Counts: {'111': 497, '000': 503}\n"
     ]
    }
   ],
   "source": [
    "# 2. Add the classical output in the form of measurement of all qubits\n",
    "qc_measured = qc.measure_all(inplace=False)\n",
    "job = StatevectorSampler().run([qc_measured] , shots=1000)\n",
    "res = job.result()\n",
    "print(f\" > Counts: {res[0].data[\"meas\"].get_counts()}\")\n",
    "\n",
    "#{'000': 497, '111': 503} which is 000 50% of the time and 111 50% of the time up to statistical fluctuations."
   ]
  },
  {
   "cell_type": "code",
   "execution_count": 15,
   "metadata": {},
   "outputs": [],
   "source": [
    "zero = np.array([[1.0],\n",
    "                [0.0]]) # this gives the representation of zero state\n",
    "one = np.array([[0.0],\n",
    "                [1.0]])# this gives the representation of one state\n",
    "\n",
    "# + state which is defined by ket{+}= 1/\\sqrt{2} (ket{0} + ket{1}). \n",
    "# The factor 1/\\sqrt{2} is called a normalization factor, and helps ensure the relation to a probability distribution.\n",
    "\n",
    "# this is How we form simple single Qubit states\n",
    "NormalizedState = lambda state: state / sp.linalg.norm(state)\n",
    "plus = NormalizedState(zero + one)\n",
    "\n",
    "# for hadamard gate\n",
    "\n",
    "hadamard = 1/np.sqrt(2) * np.array([[1.0,1.0],\n",
    "                                    [1.0,-1.0]])\n",
    "\n",
    "# here we are applying hadamard on zero state that will make it a ket{+} state\n",
    "newState = np.dot(hadamard,zero) \n"
   ]
  }
 ],
 "metadata": {
  "kernelspec": {
   "display_name": "Python 3",
   "language": "python",
   "name": "python3"
  },
  "language_info": {
   "codemirror_mode": {
    "name": "ipython",
    "version": 3
   },
   "file_extension": ".py",
   "mimetype": "text/x-python",
   "name": "python",
   "nbconvert_exporter": "python",
   "pygments_lexer": "ipython3",
   "version": "3.13.2"
  }
 },
 "nbformat": 4,
 "nbformat_minor": 2
}
